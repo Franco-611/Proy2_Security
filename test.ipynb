{
 "cells": [
  {
   "cell_type": "code",
   "execution_count": 1,
   "metadata": {},
   "outputs": [],
   "source": [
    "import joblib\n",
    "from sklearn.metrics import roc_auc_score, precision_score, recall_score, f1_score\n",
    "import pandas as pd\n",
    "\n",
    "#Lee el archivo CSV\n",
    "data = pd.read_csv('BalanceData.csv')\n",
    "\n",
    "from sklearn.preprocessing import LabelEncoder\n",
    "\n",
    "# Eliminar la columna 'trans_date_trans_time'\n",
    "data.drop(columns=['trans_date_trans_time', 'transaction_time'], inplace=True)\n",
    "\n",
    "# Codificar variables categóricas con label encoding\n",
    "label_encoder = LabelEncoder()\n",
    "categorical_cols = ['merchant', 'category', 'first', 'last', 'gender', 'street', 'city', 'state', 'job']\n",
    "for col in categorical_cols:\n",
    "    data[col + '_encoded'] = label_encoder.fit_transform(data[col])\n",
    "\n",
    "# Eliminar columnas originales no numéricas y otras columnas irrelevantes\n",
    "data.drop(columns=['merchant', 'category', 'first', 'last', 'gender', 'street', 'city', 'state', 'job', 'dob', 'trans_num'], inplace=True)\n",
    "\n",
    "from sklearn.model_selection import train_test_split\n",
    "from sklearn.impute import SimpleImputer \n",
    "\n",
    "# Dividir el dataset en conjunto de entrenamiento, conjunto de validación (dev) y conjunto de prueba\n",
    "X_train, X_test, y_train, y_test = train_test_split(data.drop('is_fraud', axis=1), data['is_fraud'], test_size=0.2, random_state=42)\n",
    "X_train, X_dev, y_train, y_dev = train_test_split(X_train, y_train, test_size=0.1, random_state=42)\n",
    "\n",
    "# Imputar valores faltantes con la estrategia de relleno con el valor medio\n",
    "imputer = SimpleImputer(strategy='mean')\n",
    "X_train_imputed = imputer.fit_transform(X_train)\n",
    "X_dev_imputed = imputer.transform(X_dev)"
   ]
  },
  {
   "cell_type": "code",
   "execution_count": 4,
   "metadata": {},
   "outputs": [
    {
     "name": "stdout",
     "output_type": "stream",
     "text": [
      "ROC-AUC: 0.999940938211968, Precisión: 0.9970716435232042, Recall: 1.0, F1-score: 0.9985336748001541\n",
      "ROC-AUC: 0.9999737131241117, Precisión: 0.9978930877069772, Recall: 1.0, F1-score: 0.9989454329133092\n"
     ]
    }
   ],
   "source": [
    "\n",
    "\n",
    "def evaluate_model(model, X, y):\n",
    "    # Predecir probabilidades\n",
    "    y_pred_proba = model.predict_proba(X)[:, 1] if hasattr(model, 'predict_proba') else model.decision_function(X)\n",
    "    \n",
    "    # Calcular métricas\n",
    "    roc_auc = roc_auc_score(y, y_pred_proba)\n",
    "    precision = precision_score(y, model.predict(X))\n",
    "    recall = recall_score(y, model.predict(X))\n",
    "    f1 = f1_score(y, model.predict(X))\n",
    "    \n",
    "    return roc_auc, precision, recall, f1\n",
    "\n",
    "# Cargar el modelo\n",
    "model = joblib.load('XGBoost_initial_model.pkl')\n",
    "\n",
    "roc_auc_before, precision_before, recall_before, f1_before = evaluate_model(model, X_dev_imputed, y_dev)  # Utilizar X_dev_imputed\n",
    "\n",
    "print(f\"ROC-AUC: {roc_auc_before}, Precisión: {precision_before}, Recall: {recall_before}, F1-score: {f1_before}\")\n",
    "\n",
    "# Cargar el modelo\n",
    "model = joblib.load('XGBoost_incremental_model.pkl')\n",
    "\n",
    "roc_auc_before, precision_before, recall_before, f1_before = evaluate_model(model, X_dev_imputed, y_dev)  # Utilizar X_dev_imputed\n",
    "\n",
    "print(f\"ROC-AUC: {roc_auc_before}, Precisión: {precision_before}, Recall: {recall_before}, F1-score: {f1_before}\")"
   ]
  },
  {
   "cell_type": "code",
   "execution_count": 5,
   "metadata": {},
   "outputs": [
    {
     "name": "stdout",
     "output_type": "stream",
     "text": [
      "ROC-AUC: 0.5, Precisión: 0.5011955677505351, Recall: 1.0, F1-score: 0.6677285471892926\n"
     ]
    },
    {
     "name": "stderr",
     "output_type": "stream",
     "text": [
      "c:\\Users\\diego\\AppData\\Local\\Programs\\Python\\Python311\\Lib\\site-packages\\sklearn\\metrics\\_classification.py:1344: UndefinedMetricWarning: Precision is ill-defined and being set to 0.0 due to no predicted samples. Use `zero_division` parameter to control this behavior.\n",
      "  _warn_prf(average, modifier, msg_start, len(result))\n"
     ]
    },
    {
     "name": "stdout",
     "output_type": "stream",
     "text": [
      "ROC-AUC: 0.5, Precisión: 0.0, Recall: 0.0, F1-score: 0.0\n"
     ]
    }
   ],
   "source": [
    "# Cargar el modelo\n",
    "model = joblib.load('ANN_initial_model.pkl')\n",
    "\n",
    "roc_auc_before, precision_before, recall_before, f1_before = evaluate_model(model, X_dev_imputed, y_dev)  # Utilizar X_dev_imputed\n",
    "\n",
    "print(f\"ROC-AUC: {roc_auc_before}, Precisión: {precision_before}, Recall: {recall_before}, F1-score: {f1_before}\")\n",
    "\n",
    "# Cargar el modelo\n",
    "model = joblib.load('ANN_incremental_model.pkl')\n",
    "\n",
    "roc_auc_before, precision_before, recall_before, f1_before = evaluate_model(model, X_dev_imputed, y_dev)  # Utilizar X_dev_imputed\n",
    "\n",
    "print(f\"ROC-AUC: {roc_auc_before}, Precisión: {precision_before}, Recall: {recall_before}, F1-score: {f1_before}\")"
   ]
  },
  {
   "cell_type": "code",
   "execution_count": 6,
   "metadata": {},
   "outputs": [
    {
     "name": "stdout",
     "output_type": "stream",
     "text": [
      "ROC-AUC: 1.0, Precisión: 0.9995400432900433, Recall: 1.0, F1-score: 0.9997699687428115\n",
      "ROC-AUC: 1.0, Precisión: 1.0, Recall: 1.0, F1-score: 1.0\n"
     ]
    }
   ],
   "source": [
    "# Cargar el modelo\n",
    "model = joblib.load('Random Forest_initial_model.pkl')\n",
    "\n",
    "roc_auc_before, precision_before, recall_before, f1_before = evaluate_model(model, X_dev_imputed, y_dev)  # Utilizar X_dev_imputed\n",
    "\n",
    "print(f\"ROC-AUC: {roc_auc_before}, Precisión: {precision_before}, Recall: {recall_before}, F1-score: {f1_before}\")\n",
    "\n",
    "# Cargar el modelo\n",
    "model = joblib.load('Random Forest_incremental_model.pkl')\n",
    "\n",
    "roc_auc_before, precision_before, recall_before, f1_before = evaluate_model(model, X_dev_imputed, y_dev)  # Utilizar X_dev_imputed\n",
    "\n",
    "print(f\"ROC-AUC: {roc_auc_before}, Precisión: {precision_before}, Recall: {recall_before}, F1-score: {f1_before}\")"
   ]
  },
  {
   "cell_type": "code",
   "execution_count": 7,
   "metadata": {},
   "outputs": [
    {
     "name": "stderr",
     "output_type": "stream",
     "text": [
      "c:\\Users\\diego\\AppData\\Local\\Programs\\Python\\Python311\\Lib\\site-packages\\joblib\\externals\\loky\\backend\\context.py:150: UserWarning: Could not find the number of physical cores for the following reason:\n",
      "found 0 physical cores < 1\n",
      "Returning the number of logical cores instead. You can silence this warning by setting LOKY_MAX_CPU_COUNT to the number of cores you want to use.\n",
      "  warnings.warn(\n",
      "  File \"c:\\Users\\diego\\AppData\\Local\\Programs\\Python\\Python311\\Lib\\site-packages\\joblib\\externals\\loky\\backend\\context.py\", line 245, in _count_physical_cores\n",
      "    raise ValueError(\n"
     ]
    },
    {
     "name": "stdout",
     "output_type": "stream",
     "text": [
      "ROC-AUC: 0.9996665752013862, Precisión: 0.991479504481821, Recall: 0.9992826787212733, F1-score: 0.99536579858244\n",
      "ROC-AUC: 0.9996801911944654, Precisión: 0.9915070461305028, Recall: 0.9993909536312698, F1-score: 0.9954333898402192\n"
     ]
    }
   ],
   "source": [
    "# Cargar el modelo\n",
    "model = joblib.load('LightGBM_initial_model.pkl')\n",
    "\n",
    "roc_auc_before, precision_before, recall_before, f1_before = evaluate_model(model, X_dev_imputed, y_dev)  # Utilizar X_dev_imputed\n",
    "\n",
    "print(f\"ROC-AUC: {roc_auc_before}, Precisión: {precision_before}, Recall: {recall_before}, F1-score: {f1_before}\")\n",
    "\n",
    "# Cargar el modelo\n",
    "model = joblib.load('LightGBM_incremental_model.pkl')\n",
    "\n",
    "roc_auc_before, precision_before, recall_before, f1_before = evaluate_model(model, X_dev_imputed, y_dev)  # Utilizar X_dev_imputed\n",
    "\n",
    "print(f\"ROC-AUC: {roc_auc_before}, Precisión: {precision_before}, Recall: {recall_before}, F1-score: {f1_before}\")"
   ]
  },
  {
   "cell_type": "code",
   "execution_count": 14,
   "metadata": {},
   "outputs": [
    {
     "name": "stdout",
     "output_type": "stream",
     "text": [
      "9214/9214 [==============================] - 4s 476us/step\n",
      "Métricas del modelo inicial:\n",
      "ROC-AUC: 0.49299079804473644, Precisión: 0.5011955677505351, Recall: 1.0, F1-score: 0.6677285471892926\n",
      "9214/9214 [==============================] - 4s 481us/step\n",
      "Métricas del modelo de entrenamiento incremental:\n",
      "ROC-AUC: 0.5069611277327026, Precisión: 0.0, Recall: 0.0, F1-score: 0.0\n"
     ]
    },
    {
     "name": "stderr",
     "output_type": "stream",
     "text": [
      "c:\\Users\\diego\\AppData\\Local\\Programs\\Python\\Python311\\Lib\\site-packages\\sklearn\\metrics\\_classification.py:1344: UndefinedMetricWarning: Precision is ill-defined and being set to 0.0 due to no predicted samples. Use `zero_division` parameter to control this behavior.\n",
      "  _warn_prf(average, modifier, msg_start, len(result))\n"
     ]
    }
   ],
   "source": [
    "import numpy as np\n",
    "from sklearn.metrics import roc_auc_score, precision_score, recall_score, f1_score\n",
    "import joblib\n",
    "\n",
    "import tensorflow as tf\n",
    "\n",
    "# Definir el modelo SVM lineal en TensorFlow\n",
    "class LinearSVM(tf.keras.Model):\n",
    "    def __init__(self):\n",
    "        super(LinearSVM, self).__init__()\n",
    "        self.dense = tf.keras.layers.Dense(1, activation=None, kernel_regularizer=tf.keras.regularizers.l2(0.01))\n",
    "\n",
    "    def call(self, inputs):\n",
    "        return self.dense(inputs)\n",
    "\n",
    "# Cargar el modelo inicial\n",
    "initial_model_filename = \"SVM_initial_model.pkl\"\n",
    "initial_model = joblib.load(initial_model_filename)\n",
    "\n",
    "# Cargar el modelo de entrenamiento incremental\n",
    "incremental_model_filename = \"SVM_incremental_model.pkl\"\n",
    "incremental_model = joblib.load(incremental_model_filename)\n",
    "\n",
    "# Aquí debes cargar tus datos de prueba, X_test_imputed y y_test\n",
    "# Preprocesa los datos si es necesario\n",
    "\n",
    "# Definir función evaluate_model (si no se ha definido en este nuevo archivo)\n",
    "def evaluate_model(model, X, y, threshold=0.5):\n",
    "    # Predecir probabilidades\n",
    "    y_pred_proba = model.predict(X)\n",
    "\n",
    "    # Convertir probabilidades a etiquetas binarias\n",
    "    y_pred = (y_pred_proba >= threshold).astype(int)\n",
    "\n",
    "    # Calcular métricas\n",
    "    roc_auc = roc_auc_score(y, y_pred_proba)\n",
    "    precision = precision_score(y, y_pred)\n",
    "    recall = recall_score(y, y_pred)\n",
    "    f1 = f1_score(y, y_pred)\n",
    "\n",
    "    return roc_auc, precision, recall, f1\n",
    "\n",
    "# Evaluar el modelo inicial en los datos de prueba\n",
    "roc_auc_initial, precision_initial, recall_initial, f1_initial = evaluate_model(initial_model, X_dev_imputed, y_dev)\n",
    "print(\"Métricas del modelo inicial:\")\n",
    "print(f\"ROC-AUC: {roc_auc_initial}, Precisión: {precision_initial}, Recall: {recall_initial}, F1-score: {f1_initial}\")\n",
    "\n",
    "# Evaluar el modelo de entrenamiento incremental en los datos de prueba\n",
    "roc_auc_incremental, precision_incremental, recall_incremental, f1_incremental = evaluate_model(incremental_model, X_dev_imputed, y_dev)\n",
    "print(\"Métricas del modelo de entrenamiento incremental:\")\n",
    "print(f\"ROC-AUC: {roc_auc_incremental}, Precisión: {precision_incremental}, Recall: {recall_incremental}, F1-score: {f1_incremental}\")\n"
   ]
  }
 ],
 "metadata": {
  "kernelspec": {
   "display_name": "Python 3",
   "language": "python",
   "name": "python3"
  },
  "language_info": {
   "codemirror_mode": {
    "name": "ipython",
    "version": 3
   },
   "file_extension": ".py",
   "mimetype": "text/x-python",
   "name": "python",
   "nbconvert_exporter": "python",
   "pygments_lexer": "ipython3",
   "version": "3.11.1"
  }
 },
 "nbformat": 4,
 "nbformat_minor": 2
}
