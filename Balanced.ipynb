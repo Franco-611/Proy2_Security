{
 "cells": [
  {
   "cell_type": "markdown",
   "metadata": {},
   "source": [
    "# Proyecto 2\n",
    "\n",
    "## Diego Franco - 20240"
   ]
  },
  {
   "cell_type": "code",
   "execution_count": 1,
   "metadata": {},
   "outputs": [],
   "source": [
    "import os\n",
    "import pandas as pd\n",
    "from imblearn.over_sampling import RandomOverSampler\n",
    "from imblearn.under_sampling import RandomUnderSampler\n",
    "\n",
    "#Lee el archivo CSV\n",
    "data = pd.read_csv('newData.csv')\n"
   ]
  },
  {
   "cell_type": "markdown",
   "metadata": {},
   "source": [
    "## Balancear datos"
   ]
  },
  {
   "cell_type": "code",
   "execution_count": 2,
   "metadata": {},
   "outputs": [],
   "source": [
    "\n",
    "\n",
    "# Separar las características (X) y la variable objetivo (y)\n",
    "X = data.drop('is_fraud', axis=1)\n",
    "y = data['is_fraud']\n",
    "\n",
    "# Inicializar el remuestreador\n",
    "over_sampler = RandomOverSampler(sampling_strategy='minority')\n",
    "under_sampler = RandomUnderSampler(sampling_strategy='majority')\n",
    "\n",
    "# Aplicar el sobremuestreo\n",
    "X_over, y_over = over_sampler.fit_resample(X, y)\n",
    "\n",
    "# Aplicar el submuestreo\n",
    "X_balanced, y_balanced = under_sampler.fit_resample(X_over, y_over)\n",
    "\n",
    "# Construir un nuevo DataFrame con los datos balanceados\n",
    "balanced_data = pd.concat([pd.DataFrame(X_balanced), pd.DataFrame(y_balanced, columns=['is_fraud'])], axis=1)\n",
    "\n",
    "balanced_data.to_csv('BalanceData.csv', index=False)"
   ]
  },
  {
   "cell_type": "code",
   "execution_count": 4,
   "metadata": {},
   "outputs": [],
   "source": [
    "balanced_data[\"is_fraud\"].value_counts()\n",
    "\n",
    "balanced_data.to_csv('BalanceData.csv', index=False)"
   ]
  }
 ],
 "metadata": {
  "kernelspec": {
   "display_name": "Python 3",
   "language": "python",
   "name": "python3"
  },
  "language_info": {
   "codemirror_mode": {
    "name": "ipython",
    "version": 3
   },
   "file_extension": ".py",
   "mimetype": "text/x-python",
   "name": "python",
   "nbconvert_exporter": "python",
   "pygments_lexer": "ipython3",
   "version": "3.11.1"
  }
 },
 "nbformat": 4,
 "nbformat_minor": 2
}
